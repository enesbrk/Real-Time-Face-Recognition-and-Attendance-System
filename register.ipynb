{
 "cells": [
  {
   "cell_type": "code",
   "execution_count": 13,
   "id": "c3d0f19f",
   "metadata": {},
   "outputs": [],
   "source": [
    "import cv2\n",
    "import os\n",
    "from google.cloud import storage\n",
    "from datetime import datetime"
   ]
  },
  {
   "cell_type": "code",
   "execution_count": 14,
   "id": "03a3ed4c",
   "metadata": {},
   "outputs": [],
   "source": [
    "# GCS Ayarları\n",
    "GCS_CREDENTIALS = r\"C:\\Users\\enesb\\Documents\\GitHub\\Real-Time-Face-Recognition-and-Attendance-System\\real-time-attendance-460605-4367d4b382a9.json\"\n",
    "BUCKET_NAME = \"dataset-aee\""
   ]
  },
  {
   "cell_type": "code",
   "execution_count": 15,
   "id": "23a2ac50",
   "metadata": {},
   "outputs": [],
   "source": [
    "# GCS Bağlantısı Kur\n",
    "storage_client = storage.Client.from_service_account_json(GCS_CREDENTIALS)\n",
    "bucket = storage_client.bucket(BUCKET_NAME)"
   ]
  },
  {
   "cell_type": "code",
   "execution_count": 16,
   "id": "eddcc589",
   "metadata": {},
   "outputs": [],
   "source": [
    "# Kullanıcıdan bilgi al\n",
    "fakulte = input(\"Fakülte adı (örn: Mühendislik ve Doğa Bilimleri Fakültesi): \").strip()\n",
    "bolum = input(\"Bölüm adı (örn: Yazılım Mühendisliği): \").strip()\n",
    "sinif = input(\"Sınıf (örn: 1. Sınıf): \").strip()\n",
    "isim = input(\"Ad Soyad (örn: Ali Yılmaz): \").strip()\n",
    "isim_kodu = isim.replace(\" \", \"_\")"
   ]
  },
  {
   "cell_type": "code",
   "execution_count": 17,
   "id": "57bccb00",
   "metadata": {},
   "outputs": [
    {
     "name": "stdout",
     "output_type": "stream",
     "text": [
      "Yerel klasör oluşturuldu: dataset\\Hukuk Fakültesi\\Hukuk\\3. Sınıf\\Furkan_Dağ\n"
     ]
    }
   ],
   "source": [
    "# Kayıt yolu oluştur\n",
    "local_path = os.path.join(\"dataset\", fakulte, bolum, sinif, isim_kodu)\n",
    "os.makedirs(local_path, exist_ok=True)\n",
    "print(f\"Yerel klasör oluşturuldu: {local_path}\")"
   ]
  },
  {
   "cell_type": "code",
   "execution_count": 18,
   "id": "08be4fd4",
   "metadata": {},
   "outputs": [
    {
     "name": "stdout",
     "output_type": "stream",
     "text": [
      "Fotoğraf çekmek için hazırsın. 5 fotoğraf çekilecek...\n",
      "GCS'ye doğrudan yüklendi: dataset/Hukuk Fakültesi/Hukuk/3. Sınıf/Furkan_Dağ/1.jpg\n",
      "GCS'ye doğrudan yüklendi: dataset/Hukuk Fakültesi/Hukuk/3. Sınıf/Furkan_Dağ/2.jpg\n",
      "GCS'ye doğrudan yüklendi: dataset/Hukuk Fakültesi/Hukuk/3. Sınıf/Furkan_Dağ/3.jpg\n",
      "GCS'ye doğrudan yüklendi: dataset/Hukuk Fakültesi/Hukuk/3. Sınıf/Furkan_Dağ/4.jpg\n",
      "GCS'ye doğrudan yüklendi: dataset/Hukuk Fakültesi/Hukuk/3. Sınıf/Furkan_Dağ/5.jpg\n",
      "Kayıt tamamlandı. Kamera kapanıyor...\n"
     ]
    }
   ],
   "source": [
    "import cv2\n",
    "import numpy as np\n",
    "import io\n",
    "\n",
    "cap = cv2.VideoCapture(0)\n",
    "if not cap.isOpened():\n",
    "    print(\"Kamera açılmadı!\")\n",
    "    exit()\n",
    "\n",
    "print(\"Fotoğraf çekmek için hazırsın. 5 fotoğraf çekilecek...\")\n",
    "foto_sayisi = 5\n",
    "cekilen = 0\n",
    "\n",
    "while cekilen < foto_sayisi:\n",
    "    ret, frame = cap.read()\n",
    "    if not ret:\n",
    "        continue\n",
    "\n",
    "    cv2.imshow(\"Yüz Kaydı - 's' ile kaydet, 'q' ile çıkış\", frame)\n",
    "    key = cv2.waitKey(1) & 0xFF\n",
    "\n",
    "    if key == ord('s'):\n",
    "        filename = f\"{cekilen+1}.jpg\"\n",
    "        gcs_blob_path = f\"dataset/{fakulte}/{bolum}/{sinif}/{isim_kodu}/{filename}\"\n",
    "        blob = bucket.blob(gcs_blob_path)\n",
    "\n",
    "        # Belleğe encode edip upload et\n",
    "        success, encoded_image = cv2.imencode('.jpg', frame)\n",
    "        if success:\n",
    "            image_bytes = encoded_image.tobytes()\n",
    "            blob.upload_from_string(image_bytes, content_type='image/jpeg')\n",
    "            print(f\"GCS'ye doğrudan yüklendi: {gcs_blob_path}\")\n",
    "            cekilen += 1\n",
    "        else:\n",
    "            print(\"Fotoğraf encode edilemedi.\")\n",
    "\n",
    "    elif key == ord('q'):\n",
    "        break\n",
    "\n",
    "print(\"Kayıt tamamlandı. Kamera kapanıyor...\")\n",
    "cap.release()\n",
    "cv2.destroyAllWindows()\n"
   ]
  },
  {
   "cell_type": "code",
   "execution_count": null,
   "id": "48d21d74",
   "metadata": {},
   "outputs": [],
   "source": []
  }
 ],
 "metadata": {
  "kernelspec": {
   "display_name": "Python 3",
   "language": "python",
   "name": "python3"
  },
  "language_info": {
   "codemirror_mode": {
    "name": "ipython",
    "version": 3
   },
   "file_extension": ".py",
   "mimetype": "text/x-python",
   "name": "python",
   "nbconvert_exporter": "python",
   "pygments_lexer": "ipython3",
   "version": "3.12.0"
  }
 },
 "nbformat": 4,
 "nbformat_minor": 5
}
