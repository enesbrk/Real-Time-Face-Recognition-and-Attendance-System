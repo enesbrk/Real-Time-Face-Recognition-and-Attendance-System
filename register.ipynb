{
 "cells": [
  {
   "cell_type": "code",
   "execution_count": 1,
   "id": "c3d0f19f",
   "metadata": {},
   "outputs": [],
   "source": [
    "import cv2\n",
    "import os\n",
    "from google.cloud import storage\n",
    "from datetime import datetime\n",
    "import numpy as np\n",
    "import io\n",
    "from PIL import Image\n",
    "from facenet_pytorch import InceptionResnetV1, MTCNN\n",
    "import torch\n",
    "import pickle"
   ]
  },
  {
   "cell_type": "code",
   "execution_count": 2,
   "id": "03a3ed4c",
   "metadata": {},
   "outputs": [],
   "source": [
    "# GCS Ayarları\n",
    "GCS_CREDENTIALS = r\"C:\\Users\\enesb\\Documents\\GitHub\\Real-Time-Face-Recognition-and-Attendance-System\\real-time-attendance-460605-4367d4b382a9.json\"\n",
    "BUCKET_NAME = \"dataset-aee\"\n",
    "KNOWN_FACES_PATH = \"known_faces.pkl\""
   ]
  },
  {
   "cell_type": "code",
   "execution_count": 3,
   "id": "9dea40ca",
   "metadata": {},
   "outputs": [],
   "source": [
    "device = torch.device('cuda' if torch.cuda.is_available() else 'cpu')\n",
    "mtcnn = MTCNN(keep_all=False, device=device)\n",
    "model = InceptionResnetV1(pretrained='vggface2').eval().to(device)"
   ]
  },
  {
   "cell_type": "code",
   "execution_count": 4,
   "id": "23a2ac50",
   "metadata": {},
   "outputs": [],
   "source": [
    "# GCS Bağlantısı Kur\n",
    "storage_client = storage.Client.from_service_account_json(GCS_CREDENTIALS)\n",
    "bucket = storage_client.bucket(BUCKET_NAME)"
   ]
  },
  {
   "cell_type": "code",
   "execution_count": 5,
   "id": "eddcc589",
   "metadata": {},
   "outputs": [],
   "source": [
    "# Kullanıcıdan bilgi al\n",
    "fakulte = input(\"Fakülte adı (örn: Mühendislik ve Doğa Bilimleri Fakültesi): \").strip()\n",
    "bolum = input(\"Bölüm adı (örn: Yazılım Mühendisliği): \").strip()\n",
    "sinif = input(\"Sınıf (örn: 1. Sınıf): \").strip()\n",
    "isim = input(\"Ad Soyad (örn: Ali Yılmaz): \").strip()\n",
    "isim_kodu = isim.replace(\" \", \"_\")\n",
    "gcs_key = f\"{fakulte}/{bolum}/{sinif}/{isim_kodu}\""
   ]
  },
  {
   "cell_type": "code",
   "execution_count": 6,
   "id": "08be4fd4",
   "metadata": {},
   "outputs": [
    {
     "name": "stdout",
     "output_type": "stream",
     "text": [
      "Fotoğraf çekmek için hazırsın. 5 fotoğraf çekilecek...\n",
      "GCS'ye yüklendi: dataset/Hukuk Fakültesi/Hukuk/2. Sınıf/Serdar_Arıkan/1.jpg\n",
      "GCS'ye yüklendi: dataset/Hukuk Fakültesi/Hukuk/2. Sınıf/Serdar_Arıkan/2.jpg\n",
      "GCS'ye yüklendi: dataset/Hukuk Fakültesi/Hukuk/2. Sınıf/Serdar_Arıkan/3.jpg\n",
      "GCS'ye yüklendi: dataset/Hukuk Fakültesi/Hukuk/2. Sınıf/Serdar_Arıkan/4.jpg\n",
      "GCS'ye yüklendi: dataset/Hukuk Fakültesi/Hukuk/2. Sınıf/Serdar_Arıkan/5.jpg\n"
     ]
    }
   ],
   "source": [
    "cap = cv2.VideoCapture(0)\n",
    "if not cap.isOpened():\n",
    "    print(\"Kamera açılmadı!\")\n",
    "    exit()\n",
    "\n",
    "print(\"Fotoğraf çekmek için hazırsın. 5 fotoğraf çekilecek...\")\n",
    "foto_sayisi = 5\n",
    "cekilen = 0\n",
    "face_embeddings = []\n",
    "\n",
    "while cekilen < foto_sayisi:\n",
    "    ret, frame = cap.read()\n",
    "    if not ret:\n",
    "        continue\n",
    "\n",
    "    cv2.imshow(\"Yüz Kaydı - 's' ile kaydet, 'q' ile çıkış\", frame)\n",
    "    key = cv2.waitKey(1) & 0xFF\n",
    "\n",
    "    if key == ord('s'):\n",
    "        filename = f\"{cekilen+1}.jpg\"\n",
    "        gcs_blob_path = f\"dataset/{gcs_key}/{filename}\"\n",
    "        blob = bucket.blob(gcs_blob_path)\n",
    "\n",
    "        success, encoded_image = cv2.imencode('.jpg', frame)\n",
    "        if success:\n",
    "            image_bytes = encoded_image.tobytes()\n",
    "            blob.upload_from_string(image_bytes, content_type='image/jpeg')\n",
    "            print(f\"GCS'ye yüklendi: {gcs_blob_path}\")\n",
    "\n",
    "            # ---------------------- Yüzü işle ----------------------\n",
    "            img_pil = Image.fromarray(cv2.cvtColor(frame, cv2.COLOR_BGR2RGB))\n",
    "            face = mtcnn(img_pil)\n",
    "            if face is not None:\n",
    "                embedding = model(face.unsqueeze(0).to(device)).detach().cpu().numpy()\n",
    "                face_embeddings.append(embedding)\n",
    "\n",
    "            cekilen += 1\n",
    "        else:\n",
    "            print(\"Fotoğraf encode edilemedi.\")\n",
    "\n",
    "    elif key == ord('q'):\n",
    "        break\n",
    "\n",
    "cap.release()\n",
    "cv2.destroyAllWindows()"
   ]
  },
  {
   "cell_type": "code",
   "execution_count": 7,
   "id": "48d21d74",
   "metadata": {},
   "outputs": [
    {
     "name": "stdout",
     "output_type": "stream",
     "text": [
      "Serdar Arıkan kişisi known_faces.pkl dosyasına eklendi.\n"
     ]
    }
   ],
   "source": [
    "if face_embeddings:\n",
    "    mean_embedding = np.mean(face_embeddings, axis=0)\n",
    "    if os.path.exists(KNOWN_FACES_PATH):\n",
    "        with open(KNOWN_FACES_PATH, 'rb') as f:\n",
    "            known_faces = pickle.load(f)\n",
    "    else:\n",
    "        known_faces = {}\n",
    "\n",
    "    known_faces[gcs_key] = mean_embedding\n",
    "\n",
    "    with open(KNOWN_FACES_PATH, 'wb') as f:\n",
    "        pickle.dump(known_faces, f)\n",
    "\n",
    "    print(f\"{isim} kişisi known_faces.pkl dosyasına eklendi.\")\n",
    "else:\n",
    "    print(\"Yeterli yüz verisi elde edilemedi. known_faces.pkl güncellenmedi.\")"
   ]
  }
 ],
 "metadata": {
  "kernelspec": {
   "display_name": "Python 3",
   "language": "python",
   "name": "python3"
  },
  "language_info": {
   "codemirror_mode": {
    "name": "ipython",
    "version": 3
   },
   "file_extension": ".py",
   "mimetype": "text/x-python",
   "name": "python",
   "nbconvert_exporter": "python",
   "pygments_lexer": "ipython3",
   "version": "3.12.0"
  }
 },
 "nbformat": 4,
 "nbformat_minor": 5
}
