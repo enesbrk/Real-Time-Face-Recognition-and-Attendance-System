{
 "cells": [
  {
   "cell_type": "code",
   "execution_count": 1,
   "id": "c3d0f19f",
   "metadata": {},
   "outputs": [],
   "source": [
    "import os\n",
    "import cv2\n",
    "import numpy as np\n",
    "import torch\n",
    "from PIL import Image, ImageDraw, ImageFont\n",
    "from facenet_pytorch import InceptionResnetV1, MTCNN\n",
    "from scipy.spatial.distance import cosine\n",
    "from datetime import datetime\n",
    "import time\n",
    "from collections import defaultdict\n",
    "import firebase_admin\n",
    "from firebase_admin import credentials, db"
   ]
  },
  {
   "cell_type": "code",
   "execution_count": 2,
   "id": "18b08398",
   "metadata": {},
   "outputs": [
    {
     "data": {
      "text/plain": [
       "<firebase_admin.App at 0x20ad8c5fe60>"
      ]
     },
     "execution_count": 2,
     "metadata": {},
     "output_type": "execute_result"
    }
   ],
   "source": [
    "cred = credentials.Certificate(\"C:/Users/alper/OneDrive/Desktop/Real-Time-Face-Recognition-and-Attendance-System/real-time-attendance-sys-13a15-firebase-adminsdk-fbsvc-0b0ea93420.json\")\n",
    "firebase_admin.initialize_app(cred, {\n",
    "    'databaseURL': 'https://real-time-attendance-sys-13a15-default-rtdb.europe-west1.firebasedatabase.app/'\n",
    "})"
   ]
  },
  {
   "cell_type": "code",
   "execution_count": 3,
   "id": "4cb01fc7",
   "metadata": {},
   "outputs": [],
   "source": [
    "mtcnn = MTCNN(keep_all=True)\n",
    "model = InceptionResnetV1(pretrained='vggface2').eval()"
   ]
  },
  {
   "cell_type": "code",
   "execution_count": 4,
   "id": "0c4027b7",
   "metadata": {},
   "outputs": [
    {
     "name": "stdout",
     "output_type": "stream",
     "text": [
      "Veritabanı oluşturuldu: dict_keys(['abdullatif_akkaya', 'ahmet_furkan_aylac', 'ahmet_kadir_cicek', 'alperen_gozum', 'alper_isleyen', 'Elifsu_karayiğit', 'emre_salaman', 'enes_berk_demirci', 'Feyzanur_sanrı', 'Firdevs_eyidoğan', 'ghayad_basmah_ji', 'gokhan_guney', 'Hatice_aydoğan', 'Mustafa_kerem_düzdemir', 'oguzhan_cinar', 'Rabia_haşim', 'serhat_derya', 'seyma_hacifettahoglu', 'songül_genç', 'Tuba_çalcı', 'zahit_bahadir_camur', 'Zehra_akçin'])\n"
     ]
    }
   ],
   "source": [
    "known_faces = {}\n",
    "dataset_path = 'dataset/'\n",
    "\n",
    "for person_name in os.listdir(dataset_path):\n",
    "    person_path = os.path.join(dataset_path, person_name)\n",
    "    if os.path.isdir(person_path):\n",
    "        embeddings = []\n",
    "        for image_name in os.listdir(person_path):\n",
    "            image_path = os.path.join(person_path, image_name)\n",
    "            if image_path.endswith('.jpg'):\n",
    "                img = Image.open(image_path)\n",
    "                img_rgb = img.convert('RGB')\n",
    "                faces = mtcnn(img_rgb)\n",
    "                if faces is not None:\n",
    "                    face_tensor = faces[0].unsqueeze(0)\n",
    "                    embedding = model(face_tensor).detach().numpy()\n",
    "                    embeddings.append(embedding)\n",
    "        if embeddings:\n",
    "            known_faces[person_name] = np.mean(embeddings, axis=0)\n",
    "\n",
    "print(\"Veritabanı oluşturuldu:\", known_faces.keys())\n"
   ]
  },
  {
   "cell_type": "code",
   "execution_count": 5,
   "id": "9b0067d5",
   "metadata": {},
   "outputs": [],
   "source": [
    "def show_attendance():\n",
    "    ref = db.reference('attendance')\n",
    "    records = ref.get()\n",
    "\n",
    "    if not records:\n",
    "        print(\"\\nYoklama verisi bulunamadı.\")\n",
    "        return\n",
    "\n",
    "    print(\"\\nYoklama Listesi:\")\n",
    "    print(\"Name\\t\\t\\tTimestamp\")\n",
    "    print(\"-\" * 40)\n",
    "\n",
    "    sorted_records = sorted(records.values(), key=lambda x: x['timestamp'], reverse=True)\n",
    "    for record in sorted_records:\n",
    "        print(f\"{record['name']}\\t\\t{record['timestamp']}\")"
   ]
  },
  {
   "cell_type": "code",
   "execution_count": 6,
   "id": "60d0e57d",
   "metadata": {},
   "outputs": [],
   "source": [
    "def compare_faces(embedding, known_faces):\n",
    "    min_distance = float('inf')\n",
    "    name = None\n",
    "    for known_name, known_embedding in known_faces.items():\n",
    "        distance = cosine(embedding.flatten(), known_embedding.flatten())\n",
    "        if distance < min_distance:\n",
    "            min_distance = distance\n",
    "            name = known_name\n",
    "    if min_distance < 0.3:\n",
    "        return name\n",
    "    else:\n",
    "        return \"Tanımlanamayan Kişi\"\n"
   ]
  },
  {
   "cell_type": "code",
   "execution_count": 7,
   "id": "f7ce5239",
   "metadata": {},
   "outputs": [],
   "source": [
    "recorded_names = set()\n",
    "\n",
    "def add_attendance(name):\n",
    "    if name in recorded_names:\n",
    "        return\n",
    "    now = datetime.now()\n",
    "    current_time = now.strftime(\"%Y-%m-%d %H:%M:%S\")\n",
    "    ref = db.reference('attendance')\n",
    "    ref.push({\n",
    "        'name': name,\n",
    "        'timestamp': current_time,\n",
    "        'status': 'Present'\n",
    "    })\n",
    "    recorded_names.add(name)\n",
    "    print(f\"{name} için yoklama Firebase'e kaydedildi: {current_time}\")"
   ]
  },
  {
   "cell_type": "code",
   "execution_count": null,
   "id": "882132fa",
   "metadata": {},
   "outputs": [
    {
     "name": "stdout",
     "output_type": "stream",
     "text": [
      "alper_isleyen için yoklama Firebase'e kaydedildi: 2025-05-20 00:15:54\n"
     ]
    }
   ],
   "source": [
    "verification_counts = defaultdict(int)\n",
    "verification_threshold = 5\n",
    "\n",
    "cap = cv2.VideoCapture(0)\n",
    "if not cap.isOpened():\n",
    "    print(\"Kamera açılamadı!\")\n",
    "    exit()\n",
    "\n",
    "try:\n",
    "    prev_time = time.time()\n",
    "    while True:\n",
    "        ret, frame = cap.read()\n",
    "        if not ret:\n",
    "            print(\"Kare okunamadı!\")\n",
    "            break\n",
    "\n",
    "        frame_rgb = cv2.cvtColor(frame, cv2.COLOR_BGR2RGB)\n",
    "        pil_frame = Image.fromarray(frame_rgb)\n",
    "\n",
    "        boxes, _ = mtcnn.detect(pil_frame)\n",
    "        if boxes is not None:\n",
    "            draw = ImageDraw.Draw(pil_frame)\n",
    "            for box in boxes:\n",
    "                draw.rectangle(box.tolist(), outline=(255, 0, 0), width=3)\n",
    "                face = pil_frame.crop((box[0], box[1], box[2], box[3]))\n",
    "                faces = mtcnn(face)\n",
    "                if faces is not None:\n",
    "                    face_embedding = model(faces[0].unsqueeze(0)).detach().numpy()\n",
    "                    name = compare_faces(face_embedding, known_faces)\n",
    "\n",
    "                    font = ImageFont.truetype(\"arial.ttf\", 30)\n",
    "                    draw.text((box[0], box[1] - 30), name, fill=(255, 0, 0), font=font)\n",
    "\n",
    "                    if name != \"Tanımlanamayan Kişi\":\n",
    "                        verification_counts[name] += 1\n",
    "                        if verification_counts[name] >= verification_threshold:\n",
    "                            add_attendance(name)\n",
    "                            verification_counts[name] = 0\n",
    "                    else:\n",
    "                        verification_counts = defaultdict(int)\n",
    "\n",
    "        frame_with_boxes = cv2.cvtColor(np.array(pil_frame), cv2.COLOR_RGB2BGR)\n",
    "\n",
    "        curr_time = time.time()\n",
    "        fps = 1 / (curr_time - prev_time)\n",
    "        prev_time = curr_time\n",
    "\n",
    "        cv2.putText(frame_with_boxes, f\"FPS: {fps:.2f}\", (10, 30),\n",
    "                    cv2.FONT_HERSHEY_SIMPLEX, 1, (0, 255, 0), 2)\n",
    "\n",
    "        cv2.imshow('Face Recognition', frame_with_boxes)\n",
    "\n",
    "        if cv2.waitKey(1) & 0xFF == ord('w'):\n",
    "            break\n",
    "finally:\n",
    "    cap.release()\n",
    "    cv2.destroyAllWindows()"
   ]
  }
 ],
 "metadata": {
  "kernelspec": {
   "display_name": "Python 3",
   "language": "python",
   "name": "python3"
  },
  "language_info": {
   "codemirror_mode": {
    "name": "ipython",
    "version": 3
   },
   "file_extension": ".py",
   "mimetype": "text/x-python",
   "name": "python",
   "nbconvert_exporter": "python",
   "pygments_lexer": "ipython3",
   "version": "3.12.10"
  }
 },
 "nbformat": 4,
 "nbformat_minor": 5
}
