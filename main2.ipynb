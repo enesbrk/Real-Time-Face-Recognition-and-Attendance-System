{
 "cells": [
  {
   "cell_type": "code",
   "execution_count": 21,
   "id": "c3d0f19f",
   "metadata": {},
   "outputs": [],
   "source": [
    "import os\n",
    "import cv2\n",
    "import numpy as np\n",
    "import torch\n",
    "from PIL import Image, ImageDraw, ImageFont\n",
    "from facenet_pytorch import InceptionResnetV1, MTCNN\n",
    "from scipy.spatial.distance import cosine\n",
    "from datetime import datetime\n",
    "import time\n",
    "from collections import defaultdict\n",
    "import firebase_admin\n",
    "from firebase_admin import credentials, db\n",
    "from torchvision import transforms\n"
   ]
  },
  {
   "cell_type": "code",
   "execution_count": 22,
   "id": "18b08398",
   "metadata": {},
   "outputs": [
    {
     "ename": "ValueError",
     "evalue": "The default Firebase app already exists. This means you called initialize_app() more than once without providing an app name as the second argument. In most cases you only need to call initialize_app() once. But if you do want to initialize multiple apps, pass a second argument to initialize_app() to give each app a unique name.",
     "output_type": "error",
     "traceback": [
      "\u001b[31m---------------------------------------------------------------------------\u001b[39m",
      "\u001b[31mValueError\u001b[39m                                Traceback (most recent call last)",
      "\u001b[36mCell\u001b[39m\u001b[36m \u001b[39m\u001b[32mIn[22]\u001b[39m\u001b[32m, line 2\u001b[39m\n\u001b[32m      1\u001b[39m cred = credentials.Certificate(\u001b[33m\"\u001b[39m\u001b[33mC:/Users/alper/OneDrive/Desktop/Real-Time-Face-Recognition-and-Attendance-System/real-time-attendance-sys-13a15-firebase-adminsdk-fbsvc-0b0ea93420.json\u001b[39m\u001b[33m\"\u001b[39m)\n\u001b[32m----> \u001b[39m\u001b[32m2\u001b[39m \u001b[43mfirebase_admin\u001b[49m\u001b[43m.\u001b[49m\u001b[43minitialize_app\u001b[49m\u001b[43m(\u001b[49m\u001b[43mcred\u001b[49m\u001b[43m,\u001b[49m\u001b[43m \u001b[49m\u001b[43m{\u001b[49m\n\u001b[32m      3\u001b[39m \u001b[43m    \u001b[49m\u001b[33;43m'\u001b[39;49m\u001b[33;43mdatabaseURL\u001b[39;49m\u001b[33;43m'\u001b[39;49m\u001b[43m:\u001b[49m\u001b[43m \u001b[49m\u001b[33;43m'\u001b[39;49m\u001b[33;43mhttps://real-time-attendance-sys-13a15-default-rtdb.europe-west1.firebasedatabase.app/\u001b[39;49m\u001b[33;43m'\u001b[39;49m\n\u001b[32m      4\u001b[39m \u001b[43m}\u001b[49m\u001b[43m)\u001b[49m\n",
      "\u001b[36mFile \u001b[39m\u001b[32m~\\AppData\\Local\\Packages\\PythonSoftwareFoundation.Python.3.12_qbz5n2kfra8p0\\LocalCache\\local-packages\\Python312\\site-packages\\firebase_admin\\__init__.py:74\u001b[39m, in \u001b[36minitialize_app\u001b[39m\u001b[34m(credential, options, name)\u001b[39m\n\u001b[32m     71\u001b[39m         \u001b[38;5;28;01mreturn\u001b[39;00m app\n\u001b[32m     73\u001b[39m \u001b[38;5;28;01mif\u001b[39;00m name == _DEFAULT_APP_NAME:\n\u001b[32m---> \u001b[39m\u001b[32m74\u001b[39m     \u001b[38;5;28;01mraise\u001b[39;00m \u001b[38;5;167;01mValueError\u001b[39;00m((\n\u001b[32m     75\u001b[39m         \u001b[33m'\u001b[39m\u001b[33mThe default Firebase app already exists. This means you called \u001b[39m\u001b[33m'\u001b[39m\n\u001b[32m     76\u001b[39m         \u001b[33m'\u001b[39m\u001b[33minitialize_app() more than once without providing an app name as \u001b[39m\u001b[33m'\u001b[39m\n\u001b[32m     77\u001b[39m         \u001b[33m'\u001b[39m\u001b[33mthe second argument. In most cases you only need to call \u001b[39m\u001b[33m'\u001b[39m\n\u001b[32m     78\u001b[39m         \u001b[33m'\u001b[39m\u001b[33minitialize_app() once. But if you do want to initialize multiple \u001b[39m\u001b[33m'\u001b[39m\n\u001b[32m     79\u001b[39m         \u001b[33m'\u001b[39m\u001b[33mapps, pass a second argument to initialize_app() to give each app \u001b[39m\u001b[33m'\u001b[39m\n\u001b[32m     80\u001b[39m         \u001b[33m'\u001b[39m\u001b[33ma unique name.\u001b[39m\u001b[33m'\u001b[39m))\n\u001b[32m     82\u001b[39m \u001b[38;5;28;01mraise\u001b[39;00m \u001b[38;5;167;01mValueError\u001b[39;00m((\n\u001b[32m     83\u001b[39m     \u001b[33m'\u001b[39m\u001b[33mFirebase app named \u001b[39m\u001b[33m\"\u001b[39m\u001b[38;5;132;01m{0}\u001b[39;00m\u001b[33m\"\u001b[39m\u001b[33m already exists. This means you called \u001b[39m\u001b[33m'\u001b[39m\n\u001b[32m     84\u001b[39m     \u001b[33m'\u001b[39m\u001b[33minitialize_app() more than once with the same app name as the \u001b[39m\u001b[33m'\u001b[39m\n\u001b[32m     85\u001b[39m     \u001b[33m'\u001b[39m\u001b[33msecond argument. Make sure you provide a unique name every time \u001b[39m\u001b[33m'\u001b[39m\n\u001b[32m     86\u001b[39m     \u001b[33m'\u001b[39m\u001b[33myou call initialize_app().\u001b[39m\u001b[33m'\u001b[39m).format(name))\n",
      "\u001b[31mValueError\u001b[39m: The default Firebase app already exists. This means you called initialize_app() more than once without providing an app name as the second argument. In most cases you only need to call initialize_app() once. But if you do want to initialize multiple apps, pass a second argument to initialize_app() to give each app a unique name."
     ]
    }
   ],
   "source": [
    "cred = credentials.Certificate(\"C:/Users/alper/OneDrive/Desktop/Real-Time-Face-Recognition-and-Attendance-System/real-time-attendance-sys-13a15-firebase-adminsdk-fbsvc-0b0ea93420.json\")\n",
    "firebase_admin.initialize_app(cred, {\n",
    "    'databaseURL': 'https://real-time-attendance-sys-13a15-default-rtdb.europe-west1.firebasedatabase.app/'\n",
    "})"
   ]
  },
  {
   "cell_type": "code",
   "execution_count": 24,
   "id": "4cb01fc7",
   "metadata": {},
   "outputs": [],
   "source": [
    "mtcnn = MTCNN(keep_all=True)\n",
    "model = InceptionResnetV1(pretrained='vggface2').eval()"
   ]
  },
  {
   "cell_type": "code",
   "execution_count": 25,
   "id": "0c4027b7",
   "metadata": {},
   "outputs": [
    {
     "name": "stdout",
     "output_type": "stream",
     "text": [
      "Veritabanı oluşturuldu: dict_keys(['abdullatif_akkaya', 'ahmet_furkan_aylac', 'ahmet_kadir_cicek', 'alperen_gozum', 'alper_isleyen', 'elifsu_karayigit', 'emre_salaman', 'enes_berk_demirci', 'feyzanur_sanri', 'firdevs_eyidogan', 'ghayad_basmah_ji', 'gokhan_guney', 'hatice_aydogan', 'mustafa_kerem_duzdemir', 'oguzhan_cinar', 'rabia_hasim', 'serhat_derya', 'seyma_hacifettahoglu', 'songul_genc', 'tuba_calci', 'zahit_bahadir_camur', 'zehra_akcin'])\n"
     ]
    }
   ],
   "source": [
    "known_faces = {}\n",
    "dataset_path = 'dataset/'\n",
    "\n",
    "for person_name in os.listdir(dataset_path):\n",
    "    person_path = os.path.join(dataset_path, person_name)\n",
    "    if os.path.isdir(person_path):\n",
    "        embeddings = []\n",
    "        for image_name in os.listdir(person_path):\n",
    "            image_path = os.path.join(person_path, image_name)\n",
    "            if image_path.endswith('.jpg'):\n",
    "                img = Image.open(image_path)\n",
    "                img_rgb = img.convert('RGB')\n",
    "                faces = mtcnn(img_rgb)\n",
    "                if faces is not None:\n",
    "                    face_tensor = faces[0].unsqueeze(0)\n",
    "                    embedding = model(face_tensor).detach().numpy()\n",
    "                    embeddings.append(embedding)\n",
    "        if embeddings:\n",
    "            known_faces[person_name] = np.mean(embeddings, axis=0)\n",
    "\n",
    "print(\"Veritabanı oluşturuldu:\", known_faces.keys())\n"
   ]
  },
  {
   "cell_type": "code",
   "execution_count": null,
   "id": "9b0067d5",
   "metadata": {},
   "outputs": [
    {
     "name": "stdout",
     "output_type": "stream",
     "text": [
      "alper_isleyen için yoklama Firebase'e kaydedildi: 2025-05-20 21:02:18\n"
     ]
    }
   ],
   "source": [
    "def show_attendance():\n",
    "    ref = db.reference('attendance')\n",
    "    records = ref.get()\n",
    "\n",
    "    if not records:\n",
    "        print(\"\\nYoklama verisi bulunamadı.\")\n",
    "        return\n",
    "\n",
    "    print(\"\\nYoklama Listesi:\")\n",
    "    print(\"Name\\t\\t\\tTimestamp\")\n",
    "    print(\"-\" * 40)\n",
    "\n",
    "    sorted_records = sorted(records.values(), key=lambda x: x['timestamp'], reverse=True)\n",
    "    for record in sorted_records:\n",
    "        print(f\"{record['name']}\\t\\t{record['timestamp']}\")\n",
    "\n",
    "def compare_faces(embedding, known_faces):\n",
    "    min_distance = float('inf')\n",
    "    name = None\n",
    "    for known_name, known_embedding in known_faces.items():\n",
    "        distance = cosine(embedding.flatten(), known_embedding.flatten())\n",
    "        if distance < min_distance:\n",
    "            min_distance = distance\n",
    "            name = known_name\n",
    "    if min_distance < 0.3:\n",
    "        return name\n",
    "    else:\n",
    "        return \"Tanımlanamayan Kişi\"\n",
    "\n",
    "recorded_names = set()\n",
    "\n",
    "def add_attendance(name):\n",
    "    if name in recorded_names:\n",
    "        return\n",
    "    now = datetime.now()\n",
    "    current_time = now.strftime(\"%Y-%m-%d %H:%M:%S\")\n",
    "    ref = db.reference('attendance')\n",
    "    ref.push({\n",
    "        'name': name,\n",
    "        'timestamp': current_time,\n",
    "        'status': 'Present'\n",
    "    })\n",
    "    recorded_names.add(name)\n",
    "    print(f\"{name} için yoklama Firebase'e kaydedildi: {current_time}\")\n",
    "\n",
    "verification_counts = defaultdict(int)\n",
    "verification_threshold = 5\n",
    "\n",
    "cap = cv2.VideoCapture(1)\n",
    "if not cap.isOpened():\n",
    "    print(\"Kamera açılamadı!\")\n",
    "    exit()\n",
    "\n",
    "try:\n",
    "    prev_time = time.time()\n",
    "    while True:\n",
    "        ret, frame = cap.read()\n",
    "        if not ret:\n",
    "            print(\"Kare okunamadı!\")\n",
    "            break\n",
    "\n",
    "        frame_rgb = cv2.cvtColor(frame, cv2.COLOR_BGR2RGB)\n",
    "        pil_frame = Image.fromarray(frame_rgb)\n",
    "\n",
    "        boxes, _ = mtcnn.detect(pil_frame)\n",
    "        if boxes is not None:\n",
    "            draw = ImageDraw.Draw(pil_frame)\n",
    "            for box in boxes:\n",
    "                draw.rectangle(box.tolist(), outline=(255, 0, 0), width=3)\n",
    "                face = pil_frame.crop((box[0], box[1], box[2], box[3]))\n",
    "                face = face.resize((160, 160))\n",
    "\n",
    "                face_tensor = transforms.ToTensor()(face).unsqueeze(0)\n",
    "\n",
    "                face_embedding = model(face_tensor).detach().numpy()\n",
    "\n",
    "                name = compare_faces(face_embedding, known_faces)\n",
    "\n",
    "                font = ImageFont.truetype(\"arial.ttf\", 30)\n",
    "                draw.text((box[0], box[1] - 30), name, fill=(255, 0, 0), font=font)\n",
    "\n",
    "                if name != \"Tanımlanamayan Kişi\":\n",
    "                    verification_counts[name] += 1\n",
    "                    if verification_counts[name] >= verification_threshold:\n",
    "                        add_attendance(name)\n",
    "                        verification_counts[name] = 0\n",
    "                else:\n",
    "                    verification_counts = defaultdict(int)\n",
    "\n",
    "        frame_with_boxes = cv2.cvtColor(np.array(pil_frame), cv2.COLOR_RGB2BGR)\n",
    "\n",
    "        curr_time = time.time()\n",
    "        fps = 1 / (curr_time - prev_time)\n",
    "        prev_time = curr_time\n",
    "\n",
    "        cv2.putText(frame_with_boxes, f\"FPS: {fps:.2f}\", (10, 30),\n",
    "                    cv2.FONT_HERSHEY_SIMPLEX, 1, (0, 255, 0), 2)\n",
    "\n",
    "        cv2.imshow('Face Recognition', frame_with_boxes)\n",
    "\n",
    "        if cv2.waitKey(1) & 0xFF == ord('w'):\n",
    "            break\n",
    "finally:\n",
    "    cap.release()\n",
    "    cv2.destroyAllWindows()\n"
   ]
  }
 ],
 "metadata": {
  "kernelspec": {
   "display_name": "Python 3",
   "language": "python",
   "name": "python3"
  },
  "language_info": {
   "codemirror_mode": {
    "name": "ipython",
    "version": 3
   },
   "file_extension": ".py",
   "mimetype": "text/x-python",
   "name": "python",
   "nbconvert_exporter": "python",
   "pygments_lexer": "ipython3",
   "version": "3.12.10"
  }
 },
 "nbformat": 4,
 "nbformat_minor": 5
}
