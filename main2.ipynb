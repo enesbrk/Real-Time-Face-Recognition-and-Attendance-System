{
 "cells": [
  {
   "cell_type": "code",
   "execution_count": 29,
   "id": "c3d0f19f",
   "metadata": {},
   "outputs": [],
   "source": [
    "import os\n",
    "import cv2\n",
    "import numpy as np\n",
    "import torch\n",
    "from PIL import Image, ImageDraw, ImageFont\n",
    "from facenet_pytorch import InceptionResnetV1, MTCNN\n",
    "from scipy.spatial.distance import cosine\n",
    "from datetime import datetime\n",
    "import time\n",
    "from collections import defaultdict\n",
    "import firebase_admin\n",
    "from firebase_admin import credentials, db\n",
    "from torchvision import transforms\n",
    "from google.cloud import storage\n",
    "from io import BytesIO\n",
    "import json\n",
    "import pickle"
   ]
  },
  {
   "cell_type": "code",
   "execution_count": 30,
   "id": "18b08398",
   "metadata": {},
   "outputs": [],
   "source": [
    "cred = credentials.Certificate(r\"C:\\Users\\enesb\\Documents\\GitHub\\Real-Time-Face-Recognition-and-Attendance-System\\real-time-attendance-sys-13a15-firebase-adminsdk-fbsvc-0b0ea93420.json\")\n",
    "if not firebase_admin._apps:\n",
    "    firebase_admin.initialize_app(cred, {\n",
    "        'databaseURL': 'https://real-time-attendance-sys-13a15-default-rtdb.europe-west1.firebasedatabase.app/'\n",
    "    })"
   ]
  },
  {
   "cell_type": "code",
   "execution_count": 31,
   "id": "ec332f98",
   "metadata": {},
   "outputs": [],
   "source": [
    "# Google Cloud Storage Bağlantısı\n",
    "storage_client = storage.Client.from_service_account_json(\n",
    "\tr\"C:\\Users\\enesb\\Documents\\GitHub\\Real-Time-Face-Recognition-and-Attendance-System\\real-time-attendance-460605-4367d4b382a9.json\"\n",
    ")\n",
    "bucket = storage_client.bucket(\"dataset-aee\")"
   ]
  },
  {
   "cell_type": "code",
   "execution_count": 32,
   "id": "4cb01fc7",
   "metadata": {},
   "outputs": [],
   "source": [
    "mtcnn = MTCNN(keep_all=True)\n",
    "model = InceptionResnetV1(pretrained='vggface2').eval()"
   ]
  },
  {
   "cell_type": "code",
   "execution_count": 33,
   "id": "0c4027b7",
   "metadata": {},
   "outputs": [
    {
     "name": "stdout",
     "output_type": "stream",
     "text": [
      "Cache'den known_faces yüklendi.\n"
     ]
    }
   ],
   "source": [
    "# known_faces cache'den yüklenir\n",
    "if os.path.exists('known_faces.pkl'):\n",
    "    with open('known_faces.pkl', 'rb') as f:\n",
    "        known_faces = pickle.load(f)\n",
    "    print(\"Cache'den known_faces yüklendi.\")\n",
    "else:\n",
    "    known_faces = {}\n",
    "\n",
    "# Daha önce işlenmiş dosyaları yükleme\n",
    "CACHE_FILE = 'cached_faces.json'\n",
    "if os.path.exists(CACHE_FILE):\n",
    "    with open(CACHE_FILE, 'r') as f:\n",
    "        processed_files = set(json.load(f))\n",
    "else:\n",
    "    processed_files = set()\n",
    "\n",
    "new_processed_files = set()\n",
    "person_images = {}\n",
    "\n",
    "blobs = bucket.list_blobs(prefix=\"dataset/\")\n",
    "for blob in blobs:\n",
    "    if blob.name.endswith(\".jpg\") and blob.name not in processed_files:\n",
    "        path_parts = blob.name.split(\"/\")\n",
    "        if len(path_parts) >= 3:\n",
    "            person_name = path_parts[1]\n",
    "            img_bytes = blob.download_as_bytes()\n",
    "            img = Image.open(BytesIO(img_bytes)).convert(\"RGB\")\n",
    "\n",
    "            if person_name not in person_images:\n",
    "                person_images[person_name] = []\n",
    "            person_images[person_name].append(img)\n",
    "            new_processed_files.add(blob.name)\n",
    "\n",
    "for person, images in person_images.items():\n",
    "    embeddings = []\n",
    "    for img in images:\n",
    "        faces = mtcnn(img)\n",
    "        if faces is not None:\n",
    "            face_tensor = faces[0].unsqueeze(0)\n",
    "            embedding = model(face_tensor).detach().numpy()\n",
    "            embeddings.append(embedding)\n",
    "    if embeddings:\n",
    "        if len(embeddings) == 0:\n",
    "            print(f\"'{person}' için yüz bulunamadı.\")\n",
    "        known_faces[person] = np.mean(embeddings, axis=0)"
   ]
  },
  {
   "cell_type": "code",
   "execution_count": 34,
   "id": "efca249e",
   "metadata": {},
   "outputs": [
    {
     "name": "stdout",
     "output_type": "stream",
     "text": [
      "GCS üzerinden veritabanı oluşturuldu: dict_keys(['abdullatif_akkaya', 'ahmet_furkan_aylac', 'ahmet_kadir_cicek', 'alper_isleyen', 'alperen_gozum', 'elifsu_karayigit', 'emre_salaman', 'enes_berk_demirci', 'feyzanur_sanri', 'firdevs_eyidogan', 'ghayad_basmah_ji', 'gokhan_guney', 'hatice_aydogan', 'mustafa_kerem_duzdemir', 'oguzhan_cinar', 'rabia_hasim', 'serhat_derya', 'seyma_hacifettahoglu', 'songul_genc', 'tuba_calci', 'zahit_bahadir_camur', 'zehra_akcin', 'uzumlu_kek'])\n"
     ]
    }
   ],
   "source": [
    "# Cache dosyasını güncelle\n",
    "all_processed = processed_files.union(new_processed_files)\n",
    "with open(CACHE_FILE, 'w') as f:\n",
    "    json.dump(list(all_processed), f)\n",
    "\n",
    "with open('known_faces.pkl', 'wb') as f:\n",
    "    pickle.dump(known_faces, f)    \n",
    "\n",
    "print(\"GCS üzerinden veritabanı oluşturuldu:\", known_faces.keys())"
   ]
  },
  {
   "cell_type": "code",
   "execution_count": 35,
   "id": "9b0067d5",
   "metadata": {},
   "outputs": [
    {
     "name": "stdout",
     "output_type": "stream",
     "text": [
      "enes_berk_demirci için yoklama Firebase'e kaydedildi: 2025-05-22 17:52:06\n"
     ]
    }
   ],
   "source": [
    "def show_attendance():\n",
    "    ref = db.reference('attendance')\n",
    "    records = ref.get()\n",
    "\n",
    "    if not records:\n",
    "        print(\"\\nYoklama verisi bulunamadı.\")\n",
    "        return\n",
    "\n",
    "    print(\"\\nYoklama Listesi:\")\n",
    "    print(\"Name\\t\\t\\tTimestamp\")\n",
    "    print(\"-\" * 40)\n",
    "\n",
    "    sorted_records = sorted(records.values(), key=lambda x: x['timestamp'], reverse=True)\n",
    "    for record in sorted_records:\n",
    "        print(f\"{record['name']}\\t\\t{record['timestamp']}\")\n",
    "\n",
    "def compare_faces(embedding, known_faces):\n",
    "    min_distance = float('inf')\n",
    "    name = None\n",
    "    for known_name, known_embedding in known_faces.items():\n",
    "        distance = cosine(embedding.flatten(), known_embedding.flatten())\n",
    "        if distance < min_distance:\n",
    "            min_distance = distance\n",
    "            name = known_name\n",
    "    if min_distance < 0.3:\n",
    "        return name\n",
    "    else:\n",
    "        return \"Tanımlanamayan Kişi\"\n",
    "\n",
    "recorded_names = set()\n",
    "\n",
    "def add_attendance(name):\n",
    "    if name in recorded_names:\n",
    "        return\n",
    "    now = datetime.now()\n",
    "    current_time = now.strftime(\"%Y-%m-%d %H:%M:%S\")\n",
    "    ref = db.reference('attendance')\n",
    "    ref.push({\n",
    "        'name': name,\n",
    "        'timestamp': current_time,\n",
    "        'status': 'Present'\n",
    "    })\n",
    "    recorded_names.add(name)\n",
    "    print(f\"{name} için yoklama Firebase'e kaydedildi: {current_time}\")\n",
    "\n",
    "verification_counts = defaultdict(int)\n",
    "verification_threshold = 5\n",
    "\n",
    "cap = cv2.VideoCapture(0)\n",
    "if not cap.isOpened():\n",
    "    print(\"Kamera açılamadı!\")\n",
    "    exit()\n",
    "\n",
    "try:\n",
    "    prev_time = time.time()\n",
    "    while True:\n",
    "        ret, frame = cap.read()\n",
    "        if not ret:\n",
    "            print(\"Kare okunamadı!\")\n",
    "            break\n",
    "\n",
    "        frame_rgb = cv2.cvtColor(frame, cv2.COLOR_BGR2RGB)\n",
    "        pil_frame = Image.fromarray(frame_rgb)\n",
    "\n",
    "        boxes, _ = mtcnn.detect(pil_frame)\n",
    "        if boxes is not None:\n",
    "            draw = ImageDraw.Draw(pil_frame)\n",
    "            for box in boxes:\n",
    "                draw.rectangle(box.tolist(), outline=(255, 0, 0), width=3)\n",
    "                face = pil_frame.crop((box[0], box[1], box[2], box[3]))\n",
    "                face = face.resize((160, 160))\n",
    "\n",
    "                face_tensor = transforms.ToTensor()(face).unsqueeze(0)\n",
    "\n",
    "                face_embedding = model(face_tensor).detach().numpy()\n",
    "\n",
    "                name = compare_faces(face_embedding, known_faces)\n",
    "\n",
    "                font = ImageFont.truetype(\"arial.ttf\", 30)\n",
    "                draw.text((box[0], box[1] - 30), name, fill=(255, 0, 0), font=font)\n",
    "\n",
    "                if name != \"Tanımlanamayan Kişi\":\n",
    "                    verification_counts[name] += 1\n",
    "                    if verification_counts[name] >= verification_threshold:\n",
    "                        add_attendance(name)\n",
    "                        verification_counts[name] = 0\n",
    "                else:\n",
    "                    verification_counts = defaultdict(int)\n",
    "\n",
    "        frame_with_boxes = cv2.cvtColor(np.array(pil_frame), cv2.COLOR_RGB2BGR)\n",
    "\n",
    "        curr_time = time.time()\n",
    "        fps = 1 / (curr_time - prev_time)\n",
    "        prev_time = curr_time\n",
    "\n",
    "        cv2.putText(frame_with_boxes, f\"FPS: {fps:.2f}\", (10, 30),\n",
    "                    cv2.FONT_HERSHEY_SIMPLEX, 1, (0, 255, 0), 2)\n",
    "\n",
    "        cv2.imshow('Face Recognition', frame_with_boxes)\n",
    "\n",
    "        if cv2.waitKey(1) & 0xFF == ord('w'):\n",
    "            break\n",
    "finally:\n",
    "    cap.release()\n",
    "    cv2.destroyAllWindows()"
   ]
  },
  {
   "cell_type": "code",
   "execution_count": null,
   "id": "47e58d88",
   "metadata": {},
   "outputs": [],
   "source": []
  }
 ],
 "metadata": {
  "kernelspec": {
   "display_name": "Python 3",
   "language": "python",
   "name": "python3"
  },
  "language_info": {
   "codemirror_mode": {
    "name": "ipython",
    "version": 3
   },
   "file_extension": ".py",
   "mimetype": "text/x-python",
   "name": "python",
   "nbconvert_exporter": "python",
   "pygments_lexer": "ipython3",
   "version": "3.12.0"
  }
 },
 "nbformat": 4,
 "nbformat_minor": 5
}
